{
  "cells": [
    {
      "cell_type": "markdown",
      "metadata": {
        "id": "EeUDhvWpxZ52"
      },
      "source": [
        "#Introduction\n",
        "This notebook will fine-tune the [Stable Diffusion v1.4](https://github.com/CompVis/stable-diffusion) model to hallucinate Kanji-like symbols for words that do not have established Kanji. It includes data preprocessing, where KanjiVG SVG files are converted into black-and-white pixel images and mapped to their corresponding English meanings using KANJIDIC2. The notebook then performs LoRA fine-tuning on a pre-trained Stable Diffusion v1.4 model to specialize it for Kanji generation. Finally, it showcases inference results, allowing users to generate and visualize new Kanji characters for given English words.\n",
        "\n",
        "Note: it is recommended to use a GPU/TPU to run this notebook (instead of a CPU), as the execution can take a very long time to finish on a CPU."
      ]
    },
    {
      "cell_type": "markdown",
      "metadata": {
        "id": "h8QSKbLq04AR"
      },
      "source": [
        "##Step 1: Install necessary dependencies"
      ]
    },
    {
      "cell_type": "code",
      "execution_count": null,
      "metadata": {
        "collapsed": true,
        "id": "KulU_PsKkgzR"
      },
      "outputs": [],
      "source": [
        "pip install torch accelerate datasets safetensors pillow cairosvg"
      ]
    },
    {
      "cell_type": "code",
      "execution_count": null,
      "metadata": {
        "id": "-_VZ8ToD6CV-"
      },
      "outputs": [],
      "source": [
        "pip install git+https://github.com/huggingface/diffusers"
      ]
    },
    {
      "cell_type": "markdown",
      "metadata": {
        "id": "69NoGl4HIoUP"
      },
      "source": [
        "## Step 2: Log in to Hugging Face"
      ]
    },
    {
      "cell_type": "code",
      "execution_count": null,
      "metadata": {
        "id": "Ap_mNSQOlo4A"
      },
      "outputs": [],
      "source": [
        "!huggingface-cli login # Make sure to have the Huggingface API KEY/ACCESS TOKEN"
      ]
    },
    {
      "cell_type": "markdown",
      "metadata": {
        "id": "-yhvF5o6IwIc"
      },
      "source": [
        "## Step 3: Mount Google Drive and navigate to a project folder for file access in Colab"
      ]
    },
    {
      "cell_type": "code",
      "execution_count": null,
      "metadata": {
        "id": "rJIFlLfElsBQ"
      },
      "outputs": [],
      "source": [
        "import os\n",
        "from google.colab import drive\n",
        "\n",
        "# Mount Google Drive to access persistent storage across Colab sessions\n",
        "drive.mount(\"/content/drive\")\n",
        "\n",
        "# Navigate to the project directory in Google Drive\n",
        "os.chdir(\"/content/drive/MyDrive/path/to/project/directory\")"
      ]
    },
    {
      "cell_type": "markdown",
      "metadata": {
        "id": "s9YmydsdJlB6"
      },
      "source": [
        "## Step 4: Prepare Training Data"
      ]
    },
    {
      "cell_type": "markdown",
      "metadata": {
        "id": "Go_mJSlhPxxG"
      },
      "source": [
        "The following dataset files are used\n",
        "\n",
        "\n",
        "*   KANJIDIC2 file ([kanjidic2.xml](https://www.edrdg.org/kanjidic/kanjidic2.xml.gz))\n",
        "*   Associated SVG file for the KANJIDIC2 file ([kanjivg-20220427.xml](https://github.com/KanjiVG/kanjivg/releases/download/r20220427/kanjivg-20220427.xml.gz))\n",
        "\n",
        "Make sure to place these files in the project directory specified above.\n"
      ]
    },
    {
      "cell_type": "code",
      "execution_count": null,
      "metadata": {
        "id": "AzzvDUSMmClA"
      },
      "outputs": [],
      "source": [
        "import xml.etree.ElementTree as ET\n",
        "import re\n",
        "import cairosvg\n",
        "import shutil\n",
        "from PIL import Image"
      ]
    },
    {
      "cell_type": "markdown",
      "metadata": {
        "id": "rljXBc9tKFn3"
      },
      "source": [
        "Generate SVG files from kanjivg-20220427.xml file"
      ]
    },
    {
      "cell_type": "code",
      "execution_count": null,
      "metadata": {
        "id": "HknKD9EEmH7n"
      },
      "outputs": [],
      "source": [
        "# Directory for SVG output\n",
        "svg_folder = \"kanji_svg\"\n",
        "os.makedirs(svg_folder, exist_ok=True)\n",
        "\n",
        "# SVG definitions\n",
        "kanji_header = '<svg xmlns=\"http://www.w3.org/2000/svg\" ' \\\n",
        "               'width=\"128\" height=\"128\" ' \\\n",
        "               'viewBox=\"0 0 128 128\">'\n",
        "\n",
        "kanji_style = 'style=\"fill:none;' \\\n",
        "              'stroke:#000000;' \\\n",
        "              'stroke-width:3;' \\\n",
        "              'stroke-linecap:round;' \\\n",
        "              'stroke-linejoin:round;\">'\n",
        "\n",
        "# Process kanji from XML\n",
        "kanjivg_root = ET.parse(\"kanjivg-20220427.xml\").getroot()\n",
        "for kanji in kanjivg_root:\n",
        "    kanji_id = kanji.attrib.get(\"id\")\n",
        "    if kanji_id:\n",
        "        # Create SVG content\n",
        "        svg_content = f\"{kanji_header}\\n\"\n",
        "        for stroke_group in kanji.findall(\".//g\"):\n",
        "            stroke_group_str = ET.tostring(\n",
        "                stroke_group,\n",
        "                encoding=\"utf-8\",\n",
        "                method=\"xml\"\n",
        "            ).decode(\"utf-8\")\n",
        "            svg_content += f\"<g {kanji_style}{stroke_group_str}</g>\\n\"\n",
        "        svg_content += \"</svg>\"\n",
        "\n",
        "        # Save to file\n",
        "        raw_path = os.path.join(svg_folder, f\"{kanji_id}.svg\")\n",
        "        svg_file_path = raw_path.replace(\"kvg:kanji_\", \"\")\n",
        "        with open(svg_file_path, \"w\", encoding=\"utf-8\") as svg_file:\n",
        "            svg_file.write(svg_content)"
      ]
    },
    {
      "cell_type": "markdown",
      "metadata": {
        "id": "xhnm7cKiKblb"
      },
      "source": [
        "Convert SVG files to PNG, then transform PNG to JPG"
      ]
    },
    {
      "cell_type": "code",
      "execution_count": null,
      "metadata": {
        "id": "SPR8ATP9mKDH"
      },
      "outputs": [],
      "source": [
        "# Create folder for JPG output\n",
        "jpg_folder = \"kanji_jpg\"\n",
        "os.makedirs(jpg_folder, exist_ok=True)\n",
        "\n",
        "# Create folder for PNG output\n",
        "png_folder = \"kanji_png\"\n",
        "os.makedirs(png_folder, exist_ok=True)\n",
        "\n",
        "# Process each SVG file\n",
        "for svg in os.listdir(svg_folder):\n",
        "    if svg.endswith(\".svg\"):\n",
        "        # Set file paths\n",
        "        svg_path = os.path.join(svg_folder, svg)\n",
        "        jpg_path = os.path.join(jpg_folder, svg.replace(\".svg\", \".jpg\"))\n",
        "        png_path = svg_path.replace(\"svg\", \"png\")\n",
        "\n",
        "        # Convert SVG to PNG\n",
        "        cairosvg.svg2png(url=svg_path, write_to=png_path)\n",
        "\n",
        "        # Convert PNG to JPG with white background\n",
        "        with Image.open(png_path) as img:\n",
        "            with Image.new(\"RGB\", img.size, \"WHITE\") as background:\n",
        "                background.paste(img, (0, 0), img)\n",
        "                background.save(jpg_path, \"JPEG\")"
      ]
    },
    {
      "cell_type": "markdown",
      "metadata": {
        "id": "JdVVIPzWKxCX"
      },
      "source": [
        "Process kanjivg-20220427.xml file to create a mapping between kanji characters and their corresponding filenames"
      ]
    },
    {
      "cell_type": "code",
      "execution_count": null,
      "metadata": {
        "id": "_pMGF-dNmL0L"
      },
      "outputs": [],
      "source": [
        "# Regular expression to extract kanji element literal\n",
        "kanji_literal_pattern = re.compile(r'kvg:element=\"([^\"]+)\"')\n",
        "literal_to_filename = {}\n",
        "is_processing_kanji = False\n",
        "\n",
        "# Process XML to map kanji literals to filenames\n",
        "with open(\"kanjivg-20220427.xml\", \"r\", encoding=\"utf-8\") as kanjivg_file:\n",
        "    for current_line in kanjivg_file:\n",
        "        if \"<kanji\" in current_line:\n",
        "            is_processing_kanji = True\n",
        "\n",
        "        if is_processing_kanji:\n",
        "            kanji_id_match = re.search(r'id=\"([^\"]+)\"', current_line)\n",
        "            kanji_literal_match = kanji_literal_pattern.search(current_line)\n",
        "\n",
        "            if kanji_literal_match:\n",
        "                kanji_literal = kanji_literal_match.group(1)\n",
        "                kanji_filename = kanji_id_match.group(1).replace(\"kvg:\", \"\")\n",
        "                literal_to_filename[kanji_literal] = kanji_filename\n",
        "                is_processing_kanji = False"
      ]
    },
    {
      "cell_type": "markdown",
      "metadata": {
        "id": "st4ljQ1GLOpU"
      },
      "source": [
        "Extract English meanings for each kanji from kanjidic2.xml and create a corresponding metadata.jsonl file"
      ]
    },
    {
      "cell_type": "code",
      "execution_count": null,
      "metadata": {
        "collapsed": true,
        "id": "M1gfeFFxmNZ9"
      },
      "outputs": [],
      "source": [
        "# Parse Kanjidic2.xml and prepare metadata file\n",
        "kanjidic2_root = ET.parse(\"kanjidic2.xml\").getroot()\n",
        "metadata_file_path = os.path.join(jpg_folder, \"metadata.jsonl\")\n",
        "\n",
        "with open(metadata_file_path, \"w\") as metadata:\n",
        "    # Process each kanji character\n",
        "    for character in kanjidic2_root.findall(\"character\"):\n",
        "        literal = character.find(\"literal\").text\n",
        "        meanings = []\n",
        "\n",
        "        # Extract English meanings only\n",
        "        for meaning in character.findall(\".//reading_meaning/rmgroup/meaning\"):\n",
        "            if \"r_type\" not in meaning.attrib and \"m_lang\" not in meaning.attrib:\n",
        "                meanings.append(meaning.text)\n",
        "\n",
        "        concat_meanings = \", \".join(meanings)\n",
        "\n",
        "        # Create JSON entry for characters with mapping\n",
        "        if literal in literal_to_filename:\n",
        "            file_name = literal_to_filename[literal]\n",
        "            file_to_text_str = (\n",
        "                f'{{\"file_name\": \"{literal_to_filename[literal]}.jpg\", '\n",
        "                f'\"text\": \"{concat_meanings} Kanji\"}}\\n'\n",
        "            )\n",
        "            metadata.write(file_to_text_str)"
      ]
    },
    {
      "cell_type": "markdown",
      "metadata": {
        "id": "Xbr5mVeSLqir"
      },
      "source": [
        "Remove unnecessary images in the JPG folder"
      ]
    },
    {
      "cell_type": "code",
      "execution_count": null,
      "metadata": {
        "id": "b7OYt1Q9mPp5"
      },
      "outputs": [],
      "source": [
        "# Remove JPG files that don't have metadata entries\n",
        "for jpg_file in os.listdir(jpg_folder):\n",
        "    if jpg_file.endswith(\".jpg\"):\n",
        "        with open(metadata_file_path, \"r\") as metadata:\n",
        "            # Check if file is referenced in metadata\n",
        "            if jpg_file not in metadata.read():\n",
        "                # Delete files without metadata entries\n",
        "                os.remove(os.path.join(jpg_folder, jpg_file))"
      ]
    },
    {
      "cell_type": "markdown",
      "metadata": {
        "id": "OnbRgt6AL8A8"
      },
      "source": [
        "Publish dataset to Hugging Face"
      ]
    },
    {
      "cell_type": "code",
      "execution_count": null,
      "metadata": {
        "collapsed": true,
        "id": "pSrLjLqqmSr6"
      },
      "outputs": [],
      "source": [
        "from datasets import load_dataset\n",
        "\n",
        "# Move processed images to train folder and publish dataset to Hugging Face Hub\n",
        "shutil.move(jpg_folder, \"train\")\n",
        "dataset = load_dataset(\"imagefolder\", \"train\", split=\"train\")\n",
        "dataset.push_to_hub(\"Akirashindo39/KANJIDIC2\")"
      ]
    },
    {
      "cell_type": "markdown",
      "metadata": {
        "id": "ECfY2gl0MV2S"
      },
      "source": [
        "## Step 5: Fine-tune  Stable Diffusion v1.4 model using LoRA (Low-Rank Adaptation)"
      ]
    },
    {
      "cell_type": "markdown",
      "metadata": {
        "id": "ctdx0YFnNMjv"
      },
      "source": [
        "Run the [train_text_to_image_lora.py](https://github.com/huggingface/diffusers/blob/main/examples/text_to_image/train_text_to_image_lora.py) script with the necessary parameters. Note that the below command can take around 2 hours to finish on a T4 GPU."
      ]
    },
    {
      "cell_type": "code",
      "execution_count": null,
      "metadata": {
        "collapsed": true,
        "id": "r7CBStSpm8sM"
      },
      "outputs": [],
      "source": [
        "# Launch LoRA fine-tuning for text-to-image model with accelerate\n",
        "!accelerate launch train_text_to_image_lora.py \\\n",
        "  --pretrained_model_name_or_path=\"CompVis/stable-diffusion-v1-4\" \\\n",
        "  --dataset_name=\"Akirashindo39/KANJIDIC2\" \\\n",
        "  --image_column=\"image\" \\\n",
        "  --caption_column=\"text\" \\\n",
        "  --resolution=512 \\\n",
        "  --random_flip \\\n",
        "  --train_batch_size=1 \\\n",
        "  --num_train_epochs=1 \\\n",
        "  --checkpointing_steps=2000 \\\n",
        "  --learning_rate=1e-04 \\\n",
        "  --lr_scheduler=\"constant\" \\\n",
        "  --lr_warmup_steps=0 \\\n",
        "  --seed=42 \\\n",
        "  --output_dir=\"Akirashindo39/kanji-diffusion-v1-4-kanjidic2\" \\\n",
        "  --validation_prompt=\"A kanji meaning Elon Musk\" \\\n",
        "  --push_to_hub"
      ]
    },
    {
      "cell_type": "markdown",
      "metadata": {
        "id": "aZqnAk3GNW4y"
      },
      "source": [
        "## Step 6: Generate new Kanji"
      ]
    },
    {
      "cell_type": "markdown",
      "metadata": {
        "id": "aKbkHxkaOMqI"
      },
      "source": [
        "Load Stable Diffusion v1.4, apply a fine-tuned Kanji model, and run on GPU."
      ]
    },
    {
      "cell_type": "code",
      "execution_count": null,
      "metadata": {
        "collapsed": true,
        "id": "wZYF23uxSuo8"
      },
      "outputs": [],
      "source": [
        "from diffusers import StableDiffusionPipeline\n",
        "import torch\n",
        "\n",
        "torch.cuda.empty_cache()\n",
        "\n",
        "# Define model path here\n",
        "model_path = \"Akirashindo39/kanji-diffusion-v1-4-kanjidic2\"\n",
        "\n",
        "pipe = StableDiffusionPipeline.from_pretrained(\n",
        "    \"CompVis/stable-diffusion-v1-4\",\n",
        "    torch_dtype=torch.float16,\n",
        "    use_safetensors=True\n",
        ").to(\"cuda\")\n",
        "pipe.unet.load_attn_procs(model_path)\n",
        "\n",
        "# Ensure pipeline is on GPU\n",
        "pipe.to(\"cuda\")"
      ]
    },
    {
      "cell_type": "markdown",
      "metadata": {
        "id": "Q2bMbAIkOVNv"
      },
      "source": [
        "Generate and save a custom kanji character"
      ]
    },
    {
      "cell_type": "code",
      "execution_count": null,
      "metadata": {
        "id": "2xQqz7mBZFgc"
      },
      "outputs": [],
      "source": [
        "new_kanji_meaning = \"internet\" # Enter new kanji meaning here\n",
        "prompt = f\"a Kanji meaning {new_kanji_meaning}\"\n",
        "image = pipe(prompt).images[0]\n",
        "image.save(f\"{new_kanji_meaning}-kanji-v1-4.png\")"
      ]
    }
  ],
  "metadata": {
    "accelerator": "GPU",
    "colab": {
      "gpuType": "T4",
      "provenance": []
    },
    "kernelspec": {
      "display_name": "Python 3",
      "name": "python3"
    },
    "language_info": {
      "name": "python"
    }
  },
  "nbformat": 4,
  "nbformat_minor": 0
}
